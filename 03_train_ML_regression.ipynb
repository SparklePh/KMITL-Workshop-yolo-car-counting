{
 "cells": [
  {
   "cell_type": "code",
   "execution_count": 10,
   "id": "b48620d0",
   "metadata": {},
   "outputs": [],
   "source": [
    "import pandas as pd\n",
    "from sklearn.model_selection import train_test_split\n",
    "from sklearn.preprocessing import StandardScaler\n",
    "from sklearn.linear_model import LinearRegression\n",
    "from sklearn.tree import DecisionTreeRegressor\n",
    "from sklearn.ensemble import RandomForestRegressor\n",
    "from sklearn.metrics import mean_squared_error, mean_absolute_error, r2_score\n",
    "import matplotlib.pyplot as plt"
   ]
  },
  {
   "cell_type": "markdown",
   "id": "abeac114",
   "metadata": {},
   "source": [
    "# Load CSV"
   ]
  },
  {
   "cell_type": "code",
   "execution_count": 11,
   "id": "34455aaa",
   "metadata": {},
   "outputs": [],
   "source": [
    "df = pd.read_csv(\"data/california_housing.csv\")\n",
    "X = df.drop(\"MedHouseValue\", axis=1)\n",
    "y = df[\"MedHouseValue\"]"
   ]
  },
  {
   "cell_type": "markdown",
   "id": "9c18aff7",
   "metadata": {},
   "source": [
    "# Train-Test Split"
   ]
  },
  {
   "cell_type": "code",
   "execution_count": 12,
   "id": "46b057b3",
   "metadata": {},
   "outputs": [],
   "source": [
    "X_train, X_test, y_train, y_test = train_test_split(X, y, test_size=0.2, random_state=42)"
   ]
  },
  {
   "cell_type": "markdown",
   "id": "a9b37d09",
   "metadata": {},
   "source": [
    "# Scale features"
   ]
  },
  {
   "cell_type": "code",
   "execution_count": 14,
   "id": "0c92a867",
   "metadata": {},
   "outputs": [],
   "source": [
    "scaler = StandardScaler()\n",
    "X_train_scaled = scaler.fit_transform(X_train)\n",
    "X_test_scaled = scaler.transform(X_test)"
   ]
  },
  {
   "cell_type": "markdown",
   "id": "fb84733e",
   "metadata": {},
   "source": [
    "# Linear Regression"
   ]
  },
  {
   "cell_type": "code",
   "execution_count": 15,
   "id": "a8afc07d",
   "metadata": {},
   "outputs": [],
   "source": [
    "lin_reg = LinearRegression()\n",
    "lin_reg.fit(X_train_scaled, y_train)\n",
    "y_pred_lin = lin_reg.predict(X_test_scaled)"
   ]
  },
  {
   "cell_type": "markdown",
   "id": "f9cb65c4",
   "metadata": {},
   "source": [
    "# Decision Tree"
   ]
  },
  {
   "cell_type": "code",
   "execution_count": 22,
   "id": "4befdab3",
   "metadata": {},
   "outputs": [],
   "source": [
    "tree = DecisionTreeRegressor(max_depth=8, random_state=42)\n",
    "tree.fit(X_train, y_train)\n",
    "y_pred_tree = tree.predict(X_test)\n"
   ]
  },
  {
   "cell_type": "markdown",
   "id": "193751d1",
   "metadata": {},
   "source": [
    "# Random Forest"
   ]
  },
  {
   "cell_type": "code",
   "execution_count": 16,
   "id": "b82f84c9",
   "metadata": {},
   "outputs": [],
   "source": [
    "rf = RandomForestRegressor(n_estimators=200, max_depth=8, random_state=42)\n",
    "rf.fit(X_train, y_train)\n",
    "y_pred_rf = rf.predict(X_test)"
   ]
  },
  {
   "cell_type": "markdown",
   "id": "01f167b5",
   "metadata": {},
   "source": []
  },
  {
   "cell_type": "code",
   "execution_count": 23,
   "id": "b1c50746",
   "metadata": {},
   "outputs": [
    {
     "name": "stdout",
     "output_type": "stream",
     "text": [
      "=== Linear Regression ===\n",
      "RMSE: 0.7455813830127763\n",
      "MAE: 0.5332001304956565\n",
      "R2: 0.575787706032451\n",
      "----------------------------------------\n",
      "=== Decision Tree ===\n",
      "RMSE: 0.6496502038503689\n",
      "MAE: 0.44816862399364304\n",
      "R2: 0.6779284983766045\n",
      "----------------------------------------\n",
      "=== Random Forest ===\n",
      "RMSE: 0.584439948975711\n",
      "MAE: 0.40185926143060774\n",
      "R2: 0.7393408778248319\n",
      "----------------------------------------\n"
     ]
    }
   ],
   "source": [
    "from sklearn.metrics import root_mean_squared_error, mean_absolute_error, r2_score\n",
    "\n",
    "# ----------------------------\n",
    "# Linear Regression\n",
    "# ----------------------------\n",
    "print(\"=== Linear Regression ===\")\n",
    "print(\"RMSE:\", root_mean_squared_error(y_test, y_pred_lin))\n",
    "print(\"MAE:\", mean_absolute_error(y_test, y_pred_lin))\n",
    "print(\"R2:\", r2_score(y_test, y_pred_lin))\n",
    "print(\"-\"*40)\n",
    "\n",
    "# ----------------------------\n",
    "# Decision Tree\n",
    "# ----------------------------\n",
    "print(\"=== Decision Tree ===\")\n",
    "print(\"RMSE:\", root_mean_squared_error(y_test, y_pred_tree))\n",
    "print(\"MAE:\", mean_absolute_error(y_test, y_pred_tree))\n",
    "print(\"R2:\", r2_score(y_test, y_pred_tree))\n",
    "print(\"-\"*40)\n",
    "\n",
    "# ----------------------------\n",
    "# Random Forest\n",
    "# ----------------------------\n",
    "print(\"=== Random Forest ===\")\n",
    "print(\"RMSE:\", root_mean_squared_error(y_test, y_pred_rf))\n",
    "print(\"MAE:\", mean_absolute_error(y_test, y_pred_rf))\n",
    "print(\"R2:\", r2_score(y_test, y_pred_rf))\n",
    "print(\"-\"*40)"
   ]
  },
  {
   "cell_type": "code",
   "execution_count": null,
   "id": "fe884d44",
   "metadata": {},
   "outputs": [],
   "source": []
  }
 ],
 "metadata": {
  "kernelspec": {
   "display_name": "FastSAM",
   "language": "python",
   "name": "python3"
  },
  "language_info": {
   "codemirror_mode": {
    "name": "ipython",
    "version": 3
   },
   "file_extension": ".py",
   "mimetype": "text/x-python",
   "name": "python",
   "nbconvert_exporter": "python",
   "pygments_lexer": "ipython3",
   "version": "3.9.20"
  }
 },
 "nbformat": 4,
 "nbformat_minor": 5
}
