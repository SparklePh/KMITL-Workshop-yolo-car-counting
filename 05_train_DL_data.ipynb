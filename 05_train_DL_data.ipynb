{
  "cells": [
    {
      "cell_type": "markdown",
      "id": "c7f9b255",
      "metadata": {
        "id": "c7f9b255"
      },
      "source": [
        "# Download data"
      ]
    },
    {
      "cell_type": "code",
      "execution_count": null,
      "id": "8jXSdwVCG-QZ",
      "metadata": {
        "colab": {
          "base_uri": "https://localhost:8080/"
        },
        "id": "8jXSdwVCG-QZ",
        "outputId": "6405fd2d-8789-42bb-e77c-c0018821185d"
      },
      "outputs": [],
      "source": [
        "import torch\n",
        "\n",
        "# Is CUDA available?\n",
        "print(\"CUDA available:\", torch.cuda.is_available())\n",
        "\n",
        "# Current device index\n",
        "print(\"Current device:\", torch.cuda.current_device())\n",
        "\n",
        "# Name of the GPU\n",
        "if torch.cuda.is_available():\n",
        "    print(\"GPU name:\", torch.cuda.get_device_name(torch.cuda.current_device()))\n",
        "\n",
        "# Number of GPUs\n",
        "print(\"Number of GPUs:\", torch.cuda.device_count())\n",
        "\n",
        "# CUDA version PyTorch was built with\n",
        "print(\"CUDA version:\", torch.version.cuda)"
      ]
    },
    {
      "cell_type": "code",
      "execution_count": null,
      "id": "8Vh25XzeF6i0",
      "metadata": {
        "colab": {
          "base_uri": "https://localhost:8080/"
        },
        "id": "8Vh25XzeF6i0",
        "outputId": "af1ef267-80fe-4abe-af49-21545c55d594"
      },
      "outputs": [],
      "source": [
        "!git clone https://github.com/SparklePh/KMITL-Workshop-yolo-car-counting.git"
      ]
    },
    {
      "cell_type": "code",
      "execution_count": null,
      "id": "M9JY9dkeGT7N",
      "metadata": {
        "colab": {
          "base_uri": "https://localhost:8080/"
        },
        "id": "M9JY9dkeGT7N",
        "outputId": "13f7f22f-c81c-4ee4-f673-1a0e7c82ff33"
      },
      "outputs": [],
      "source": [
        "%cd  KMITL-Workshop-yolo-car-counting"
      ]
    },
    {
      "cell_type": "code",
      "execution_count": null,
      "id": "c6308530",
      "metadata": {
        "colab": {
          "base_uri": "https://localhost:8080/"
        },
        "id": "c6308530",
        "outputId": "57fbc62d-2320-40eb-94d7-d80e7c6d8040"
      },
      "outputs": [],
      "source": [
        "# Install ultralytics YOLO package\n",
        "!pip install ultralytics"
      ]
    },
    {
      "cell_type": "code",
      "execution_count": null,
      "id": "sMMTighCHKpu",
      "metadata": {
        "colab": {
          "base_uri": "https://localhost:8080/",
          "height": 34
        },
        "id": "sMMTighCHKpu",
        "outputId": "5a268f5e-bcfa-4eb9-8e94-f0763f295b0c"
      },
      "outputs": [],
      "source": [
        "%pwd"
      ]
    },
    {
      "cell_type": "code",
      "execution_count": null,
      "id": "SPIJJI2fJVr0",
      "metadata": {
        "id": "SPIJJI2fJVr0"
      },
      "outputs": [],
      "source": [
        "from google.colab import drive\n",
        "drive.mount('/content/drive')\n"
      ]
    },
    {
      "cell_type": "code",
      "execution_count": null,
      "id": "22a304f5",
      "metadata": {
        "colab": {
          "base_uri": "https://localhost:8080/",
          "height": 1000
        },
        "id": "22a304f5",
        "outputId": "471931be-a011-4be4-e883-debda824761e"
      },
      "outputs": [],
      "source": [
        "from ultralytics import YOLO\n",
        "\n",
        "# Load a COCO-pretrained YOLOv8n model\n",
        "model = YOLO(\"yolov8l.pt\")\n",
        "\n",
        "# Display model information (optional)\n",
        "model.info()\n",
        "\n",
        "# Train the model on the COCO8 example dataset for 100 epochs\n",
        "results = model.train(data=f\"data/cars_data/data.yaml\", epochs=5, imgsz=640, device=0)\n"
      ]
    },
    {
      "cell_type": "code",
      "execution_count": null,
      "id": "be1a0a94",
      "metadata": {
        "colab": {
          "base_uri": "https://localhost:8080/"
        },
        "id": "be1a0a94",
        "outputId": "c7db6870-a1f9-4f3b-9d62-3460e096320d"
      },
      "outputs": [],
      "source": [
        "from ultralytics import YOLO\n",
        "\n",
        "# Load your trained model\n",
        "model = YOLO(\"runs/detect/train/weights/yolov8l.pt\")\n",
        "\n",
        "# Run inference on a video with a confidence threshold\n",
        "results = model(\n",
        "    \"data/highway.mp4\",   # input video\n",
        "    save=True,            # save the output video\n",
        "    show=True,            # display inline\n",
        "    conf=0.5,             # show predictions with confidence\n",
        ")\n"
      ]
    },
    {
      "cell_type": "code",
      "execution_count": null,
      "id": "0vu4_DZTVO6x",
      "metadata": {
        "id": "0vu4_DZTVO6x"
      },
      "outputs": [],
      "source": [
        "from ultralytics import YOLO\n",
        "\n",
        "# Load your trained model\n",
        "model = YOLO(\"runs/detect/train/weights/yolov8l.pt\")  # your trained detection model\n",
        "\n",
        "# Run tracking on video\n",
        "results = model.track(\n",
        "    source=\"data/highway.mp4\",  # input video\n",
        "    save=True,                  # save output video with tracks\n",
        "    show=True,                  # display inline in notebook\n",
        "    conf=0.5,                   # confidence threshold\n",
        "    persist=True                # keep tracks across frames\n",
        ")\n"
      ]
    },
    {
      "cell_type": "code",
      "execution_count": null,
      "id": "eU0QLyIfUHuB",
      "metadata": {
        "colab": {
          "base_uri": "https://localhost:8080/"
        },
        "id": "eU0QLyIfUHuB",
        "outputId": "5e4f9e98-5b47-43bc-ab14-304311da1cce"
      },
      "outputs": [],
      "source": [
        "INPUT_VIDEO =  \"runs/detect/predict2/highway.avi\"\n",
        "OUT_VIDEO = \"runs/detect/predict2/highway.mp4\"\n",
        "\n",
        "!ffmpeg -i  {INPUT_VIDEO} -vcodec libx264 {OUT_VIDEO}"
      ]
    },
    {
      "cell_type": "code",
      "execution_count": null,
      "id": "8-TNUYT0KpXa",
      "metadata": {
        "colab": {
          "base_uri": "https://localhost:8080/",
          "height": 740
        },
        "id": "8-TNUYT0KpXa",
        "outputId": "b7e7a947-320a-4500-8590-d62708a2f1f7"
      },
      "outputs": [],
      "source": [
        "from IPython.display import HTML, display\n",
        "from base64 import b64encode\n",
        "\n",
        "video_path_output = \"runs/detect/predict2/highway.mp4\"\n",
        "\n",
        "mp4 = open(video_path_output,'rb').read()\n",
        "data_url = \"data:video/mp4;base64,\" + b64encode(mp4).decode()\n",
        "\n",
        "# Use file path directly\n",
        "HTML(\"\"\"\n",
        "<video controls>\n",
        "      <source src=\"%s\" type=\"video/mp4\">\n",
        "</video>\n",
        "\"\"\" % data_url)\n"
      ]
    },
    {
      "cell_type": "code",
      "execution_count": null,
      "id": "xP8XOhwrTv65",
      "metadata": {
        "id": "xP8XOhwrTv65"
      },
      "outputs": [],
      "source": []
    }
  ],
  "metadata": {
    "accelerator": "GPU",
    "colab": {
      "gpuType": "T4",
      "provenance": []
    },
    "kernelspec": {
      "display_name": "FastSAM",
      "language": "python",
      "name": "python3"
    },
    "language_info": {
      "codemirror_mode": {
        "name": "ipython",
        "version": 3
      },
      "file_extension": ".py",
      "mimetype": "text/x-python",
      "name": "python",
      "nbconvert_exporter": "python",
      "pygments_lexer": "ipython3",
      "version": "3.9.20"
    }
  },
  "nbformat": 4,
  "nbformat_minor": 5
}
