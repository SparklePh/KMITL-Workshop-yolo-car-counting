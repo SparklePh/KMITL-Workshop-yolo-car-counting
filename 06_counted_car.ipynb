{
 "cells": [
  {
   "cell_type": "code",
   "execution_count": null,
   "id": "80be9fa4",
   "metadata": {},
   "outputs": [],
   "source": [
    "#!git clone https://github.com/SparklePh/KMITL-Workshop-yolo-car-counting"
   ]
  },
  {
   "cell_type": "code",
   "execution_count": null,
   "id": "6358c70b",
   "metadata": {},
   "outputs": [],
   "source": [
    "# %cd KMITL-Workshop-yolo-car-counting"
   ]
  },
  {
   "cell_type": "code",
   "execution_count": null,
   "id": "22e56194",
   "metadata": {},
   "outputs": [],
   "source": [
    "import numpy as np\n",
    "import matplotlib.pyplot as plt\n",
    "from PIL import Image\n",
    "\n",
    "# Read the image and convert to RGB\n",
    "img = Image.open(\"data/highway_frame.jpg\").convert(\"RGB\")\n",
    "img_array = np.array(img)\n",
    "\n",
    "# Plot the image\n",
    "plt.figure(figsize=(12, 8))\n",
    "plt.imshow(img_array)\n",
    "plt.axis(\"on\")  # Turn on the axis to show X and Y coordinates\n",
    "\n",
    "# Set ticks every 50 pixels\n",
    "plt.xticks(np.arange(0, img_array.shape[1], 50))\n",
    "plt.yticks(np.arange(0, img_array.shape[0], 50))\n",
    "\n",
    "# Add grid lines\n",
    "plt.grid(color='white', linestyle='--', linewidth=0.5)  # White dashed grid\n",
    "\n",
    "# Add axis labels and title\n",
    "plt.xlabel(\"X (pixels)\")\n",
    "plt.ylabel(\"Y (pixels)\")\n",
    "plt.title(\"Image with pixel grid\")\n",
    "\n",
    "# Display the plot\n",
    "plt.show()"
   ]
  },
  {
   "cell_type": "code",
   "execution_count": null,
   "id": "cb6e9cda",
   "metadata": {},
   "outputs": [],
   "source": [
    "from ultralytics import YOLO\n",
    "\n",
    "model = YOLO(\"model/yolov8l_car.pt\")\n",
    "results = model(\"data/car.jpg\")\n",
    "\n",
    "# results เป็น list ของ Results objects\n",
    "r = results[0]\n",
    "\n",
    "# 1. ดึง bounding boxes\n",
    "boxes = r.boxes  # .xyxy, .xywh, .cls, .conf\n",
    "\n",
    "# 2. ดึง coordinates\n",
    "xyxy = boxes.xyxy.cpu().numpy()      # [x1, y1, x2, y2]\n",
    "cls  = boxes.cls.cpu().numpy()       # class ids\n",
    "conf = boxes.conf.cpu().numpy()      # confidence\n",
    "\n",
    "# 3. ดึง object IDs (ถ้า track)\n",
    "ids = boxes.id.int().cpu().numpy() if boxes.id is not None else None\n",
    "\n"
   ]
  },
  {
   "cell_type": "markdown",
   "id": "0eb63d5d",
   "metadata": {},
   "source": [
    "# Load pretrained YOLO model"
   ]
  },
  {
   "cell_type": "code",
   "execution_count": null,
   "id": "428b6426",
   "metadata": {},
   "outputs": [],
   "source": [
    "from ultralytics import YOLO\n",
    "\n",
    "# Load YOLOv8 pretrained model\n",
    "model = YOLO(\"model\\yolov8l_car.pt\")  # small model for fast inference\n",
    "model.info()"
   ]
  },
  {
   "cell_type": "markdown",
   "id": "9f4734c9",
   "metadata": {},
   "source": [
    "# Prepare video and image sample"
   ]
  },
  {
   "cell_type": "code",
   "execution_count": null,
   "id": "a0ec96bf",
   "metadata": {},
   "outputs": [],
   "source": [
    "# Using uploaded video\n",
    "video_path = \"data/highway.mp4\"\n"
   ]
  },
  {
   "cell_type": "markdown",
   "id": "42c434ad",
   "metadata": {},
   "source": [
    "# Run YOLO detection on one frame (exploration)"
   ]
  },
  {
   "cell_type": "code",
   "execution_count": null,
   "id": "720991e2",
   "metadata": {},
   "outputs": [],
   "source": [
    "import cv2\n",
    "import matplotlib.pyplot as plt\n",
    "\n",
    "# Read image with OpenCV\n",
    "image_path = \"data/highway_frame.jpg\"\n",
    "\n",
    "# Read one frame\n",
    "img = cv2.imread(image_path)\n",
    "\n",
    "# Run YOLO detection (track=False for single frame)\n",
    "results = model(img, conf=0.5)\n",
    "\n",
    "# Display the frame with boxes\n",
    "plt.figure(figsize=(10,8))\n",
    "plt.imshow(cv2.cvtColor(results[0].plot(), cv2.COLOR_BGR2RGB))\n",
    "plt.axis(\"off\")\n",
    "plt.show()\n"
   ]
  },
  {
   "cell_type": "code",
   "execution_count": null,
   "id": "39b35d57",
   "metadata": {},
   "outputs": [],
   "source": [
    "results"
   ]
  },
  {
   "cell_type": "markdown",
   "id": "42ca5c4c",
   "metadata": {},
   "source": [
    "# Extract object centers"
   ]
  },
  {
   "cell_type": "code",
   "execution_count": null,
   "id": "3aee74f0",
   "metadata": {},
   "outputs": [],
   "source": [
    "def get_object_centers(results):\n",
    "    centers = []\n",
    "    ids = []\n",
    "    if results[0].boxes.id is not None:\n",
    "        boxes = results[0].boxes.xyxy.cpu().numpy()\n",
    "        ids = results[0].boxes.id.int().cpu().tolist()\n",
    "        for box in boxes:\n",
    "            x1, y1, x2, y2 = box\n",
    "            cx, cy = int((x1 + x2)/2), int((y1 + y2)/2)\n",
    "            centers.append((cx, cy))\n",
    "    return centers, ids\n",
    "\n",
    "centers, _ = get_object_centers(results)\n",
    "\n",
    "# Plot centers on the image\n",
    "plt.figure(figsize=(10,8))\n",
    "\n",
    "# Convert BGR → RGB\n",
    "img_rgb = cv2.cvtColor(img, cv2.COLOR_BGR2RGB)\n",
    "plt.imshow(img_rgb)\n",
    "plt.axis(\"on\")\n",
    "\n",
    "# Plot object centers\n",
    "if centers:\n",
    "    xs, ys = zip(*centers)\n",
    "    # invert y-axis for matplotlib\n",
    "    plt.scatter(xs, ys, c='red', s=100, marker='x', label='Centers', zorder=2)\n",
    "\n",
    "plt.title(\"Object Centers Detected by YOLO\")\n",
    "plt.legend()\n",
    "plt.show()"
   ]
  },
  {
   "cell_type": "markdown",
   "id": "51dd110b",
   "metadata": {},
   "source": [
    "# Count vehicles crossing ROI line (video)"
   ]
  },
  {
   "cell_type": "code",
   "execution_count": null,
   "id": "e8583079",
   "metadata": {},
   "outputs": [],
   "source": [
    "# ROI line (only a segment)\n",
    "line_y = 500\n",
    "line_x_start = 200  \n",
    "line_x_end = 600\n",
    "\n",
    "counted_ids = set()\n",
    "total_count = 0\n",
    "\n",
    "# Open video writer\n",
    "cap = cv2.VideoCapture(video_path)\n",
    "width = int(cap.get(cv2.CAP_PROP_FRAME_WIDTH))\n",
    "height = int(cap.get(cv2.CAP_PROP_FRAME_HEIGHT))\n",
    "fps = int(cap.get(cv2.CAP_PROP_FPS))\n",
    "fourcc = cv2.VideoWriter_fourcc(*'mp4v')\n",
    "out = cv2.VideoWriter(\"highway_counted.mp4\", fourcc, fps, (width, height))\n",
    "\n",
    "while True:\n",
    "    ret, frame = cap.read()\n",
    "    if not ret:\n",
    "        break\n",
    "    \n",
    "    results = model.track(frame, conf=0.5, persist=True, verbose=False)\n",
    "    centers, ids = get_object_centers(results)\n",
    "    \n",
    "    # Count objects crossing ROI segment\n",
    "    for (cx, cy), obj_id in zip(centers, ids):\n",
    "        if line_y-5 < cy < line_y+5 and line_x_start <= cx <= line_x_end and obj_id not in counted_ids:\n",
    "            counted_ids.add(obj_id)\n",
    "            total_count += 1\n",
    "    \n",
    "    # Draw ROI segment and centers\n",
    "    cv2.line(frame, (line_x_start, line_y), (line_x_end, line_y), (0,255,255), 2)\n",
    "    for cx, cy in centers:\n",
    "        cv2.circle(frame, (cx, cy), 4, (0,0,255), -1)\n",
    "    cv2.putText(frame, f\"Count: {total_count}\", (20,40),\n",
    "                cv2.FONT_HERSHEY_SIMPLEX, 1, (255,0,0), 2)\n",
    "    \n",
    "    out.write(frame)\n",
    "\n",
    "cap.release()\n",
    "out.release()\n",
    "print(f\"Video saved to highway_counted.mp4\")\n"
   ]
  },
  {
   "cell_type": "markdown",
   "id": "6309bbf9",
   "metadata": {},
   "source": [
    "# Display counted video in Colab"
   ]
  },
  {
   "cell_type": "code",
   "execution_count": null,
   "id": "43a911ed",
   "metadata": {},
   "outputs": [],
   "source": [
    "from IPython.display import HTML\n",
    "from base64 import b64encode\n",
    "\n",
    "mp4 = open(\"highway_counted.mp4\",'rb').read()\n",
    "data_url = \"data:video/mp4;base64,\" + b64encode(mp4).decode()\n",
    "HTML(f\"\"\"\n",
    "<video width=800 controls>\n",
    "  <source src=\"{data_url}\" type=\"video/mp4\">\n",
    "</video>"
   ]
  }
 ],
 "metadata": {
  "kernelspec": {
   "display_name": "FastSAM",
   "language": "python",
   "name": "python3"
  },
  "language_info": {
   "codemirror_mode": {
    "name": "ipython",
    "version": 3
   },
   "file_extension": ".py",
   "mimetype": "text/x-python",
   "name": "python",
   "nbconvert_exporter": "python",
   "pygments_lexer": "ipython3",
   "version": "3.9.20"
  }
 },
 "nbformat": 4,
 "nbformat_minor": 5
}
